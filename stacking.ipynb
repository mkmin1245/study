{
  "cells": [
    {
      "cell_type": "markdown",
      "metadata": {
        "id": "view-in-github",
        "colab_type": "text"
      },
      "source": [
        "<a href=\"https://colab.research.google.com/github/mkmin1245/study/blob/main/stacking.ipynb\" target=\"_parent\"><img src=\"https://colab.research.google.com/assets/colab-badge.svg\" alt=\"Open In Colab\"/></a>"
      ]
    },
    {
      "cell_type": "code",
      "source": [
        "import numpy as np\n",
        "from matplotlib import pyplot as plt"
      ],
      "metadata": {
        "id": "uxqYYeLKCZpR"
      },
      "execution_count": 1,
      "outputs": []
    },
    {
      "cell_type": "code",
      "source": [
        "\"\"\"\n",
        "for E161A\n",
        "양극 전폭 WC : 94.5 ± 0.15\n",
        "AC(1,2,3,4) : 1.35 ± 0.85\n",
        "TPC1(라미기준 오른쪽) : 12.25 ± 1.1\n",
        "TWC : 70.0 ± 1.0\n",
        "TPA1(라미기준 오른쪽) : 13.6 ± 0.9\n",
        "TWA : 70.0 ± 1.0\n",
        "\"\"\"\n",
        "\n",
        "\n"
      ],
      "metadata": {
        "id": "IOO_zQ15Cfnd",
        "outputId": "57c12328-9a08-48ab-a43f-a9583acd23fb",
        "colab": {
          "base_uri": "https://localhost:8080/",
          "height": 35
        }
      },
      "execution_count": 2,
      "outputs": [
        {
          "output_type": "execute_result",
          "data": {
            "text/plain": [
              "' \\nfor E161A\\n양극 전폭 WC : 94.5 ± 0.15\\nAC(1,2,3,4) : 1.35 ± 0.85\\nTPC1(라미기준 오른쪽) : 12.25 ± 1.1\\nTWC : 70.0 ± 1.0\\nTPA1(라미기준 오른쪽) : 13.6 ± 0.9\\nTWA : 70.0 ± 1.0\\n'"
            ],
            "application/vnd.google.colaboratory.intrinsic+json": {
              "type": "string"
            }
          },
          "metadata": {},
          "execution_count": 2
        }
      ]
    },
    {
      "cell_type": "code",
      "source": [
        "stackingnumber = [a for a in range(0, 60)]\n",
        "average = []\n",
        "stddev = []"
      ],
      "metadata": {
        "id": "SBxOUJb7Jn9J"
      },
      "execution_count": 3,
      "outputs": []
    },
    {
      "cell_type": "code",
      "source": [
        "for i in stackingnumber:\n",
        "  TWA_total = []\n",
        "  weldingarea_total = []\n",
        "  for j in range(10000):\n",
        "    stacking_tol = 0.45/4*np.random.randn(i)    #0±0.45, 4시그마 수준\n",
        "    WC_half = 47.25+0.15/4*np.random.randn(i)\n",
        "    AC_1 = 1.35+0.85/4*np.random.randn(i)\n",
        "    TPA = 1.36+0.9/4*np.random.randn(i)\n",
        "    TWA = 70+1/4*np.random.randn(i)\n",
        "    stacked_outer_right =  np.max(stacking_tol+WC_half+AC_1-TPA)\n",
        "    stacked_inner_right =  np.min(stacking_tol+WC_half+AC_1-TPA)\n",
        "    stacked_outer_left = np.min(stacking_tol+WC_half+AC_1-TPA-TWA)\n",
        "    stacked_inner_left = np.max(stacking_tol+WC_half+AC_1-TPA-TWA)\n",
        "    stacked_tab_TWA = stacked_outer_right-stacked_outer_left\n",
        "    welding_area = stacked_inner_right-stacked_inner_left\n",
        "    TWA_total.append(stacked_tab_TWA)\n",
        "    weldingarea_total.append(welding_area)\n",
        "\n",
        "  average.append(np.mean(TWA_total))\n",
        "  stddev.append(np.std(TWA_total))\n",
        "  plt.hist(TWA_total)\n",
        "  plt.title(f\"stacking number = {i}\")\n",
        "  plt.show()\n"
      ],
      "metadata": {
        "id": "OFUne823P65T",
        "outputId": "28da3d7e-1b58-4b9a-eaf9-84ffdae09198",
        "colab": {
          "base_uri": "https://localhost:8080/",
          "height": 575
        }
      },
      "execution_count": 5,
      "outputs": [
        {
          "output_type": "error",
          "ename": "ValueError",
          "evalue": "ignored",
          "traceback": [
            "\u001b[0;31m---------------------------------------------------------------------------\u001b[0m",
            "\u001b[0;31mValueError\u001b[0m                                Traceback (most recent call last)",
            "\u001b[0;32m<ipython-input-5-57254f4f31d3>\u001b[0m in \u001b[0;36m<cell line: 1>\u001b[0;34m()\u001b[0m\n\u001b[1;32m      8\u001b[0m     \u001b[0mTPA\u001b[0m \u001b[0;34m=\u001b[0m \u001b[0;36m1.36\u001b[0m\u001b[0;34m+\u001b[0m\u001b[0;36m0.9\u001b[0m\u001b[0;34m/\u001b[0m\u001b[0;36m4\u001b[0m\u001b[0;34m*\u001b[0m\u001b[0mnp\u001b[0m\u001b[0;34m.\u001b[0m\u001b[0mrandom\u001b[0m\u001b[0;34m.\u001b[0m\u001b[0mrandn\u001b[0m\u001b[0;34m(\u001b[0m\u001b[0mi\u001b[0m\u001b[0;34m)\u001b[0m\u001b[0;34m\u001b[0m\u001b[0;34m\u001b[0m\u001b[0m\n\u001b[1;32m      9\u001b[0m     \u001b[0mTWA\u001b[0m \u001b[0;34m=\u001b[0m \u001b[0;36m70\u001b[0m\u001b[0;34m+\u001b[0m\u001b[0;36m1\u001b[0m\u001b[0;34m/\u001b[0m\u001b[0;36m4\u001b[0m\u001b[0;34m*\u001b[0m\u001b[0mnp\u001b[0m\u001b[0;34m.\u001b[0m\u001b[0mrandom\u001b[0m\u001b[0;34m.\u001b[0m\u001b[0mrandn\u001b[0m\u001b[0;34m(\u001b[0m\u001b[0mi\u001b[0m\u001b[0;34m)\u001b[0m\u001b[0;34m\u001b[0m\u001b[0;34m\u001b[0m\u001b[0m\n\u001b[0;32m---> 10\u001b[0;31m     \u001b[0mstacked_outer_right\u001b[0m \u001b[0;34m=\u001b[0m  \u001b[0mnp\u001b[0m\u001b[0;34m.\u001b[0m\u001b[0mmax\u001b[0m\u001b[0;34m(\u001b[0m\u001b[0mstacking_tol\u001b[0m\u001b[0;34m+\u001b[0m\u001b[0mWC_half\u001b[0m\u001b[0;34m+\u001b[0m\u001b[0mAC_1\u001b[0m\u001b[0;34m-\u001b[0m\u001b[0mTPA\u001b[0m\u001b[0;34m)\u001b[0m\u001b[0;34m\u001b[0m\u001b[0;34m\u001b[0m\u001b[0m\n\u001b[0m\u001b[1;32m     11\u001b[0m     \u001b[0mstacked_inner_right\u001b[0m \u001b[0;34m=\u001b[0m  \u001b[0mnp\u001b[0m\u001b[0;34m.\u001b[0m\u001b[0mmin\u001b[0m\u001b[0;34m(\u001b[0m\u001b[0mstacking_tol\u001b[0m\u001b[0;34m+\u001b[0m\u001b[0mWC_half\u001b[0m\u001b[0;34m+\u001b[0m\u001b[0mAC_1\u001b[0m\u001b[0;34m-\u001b[0m\u001b[0mTPA\u001b[0m\u001b[0;34m)\u001b[0m\u001b[0;34m\u001b[0m\u001b[0;34m\u001b[0m\u001b[0m\n\u001b[1;32m     12\u001b[0m     \u001b[0mstacked_outer_left\u001b[0m \u001b[0;34m=\u001b[0m \u001b[0mnp\u001b[0m\u001b[0;34m.\u001b[0m\u001b[0mmin\u001b[0m\u001b[0;34m(\u001b[0m\u001b[0mstacking_tol\u001b[0m\u001b[0;34m+\u001b[0m\u001b[0mWC_half\u001b[0m\u001b[0;34m+\u001b[0m\u001b[0mAC_1\u001b[0m\u001b[0;34m-\u001b[0m\u001b[0mTPA\u001b[0m\u001b[0;34m-\u001b[0m\u001b[0mTWA\u001b[0m\u001b[0;34m)\u001b[0m\u001b[0;34m\u001b[0m\u001b[0;34m\u001b[0m\u001b[0m\n",
            "\u001b[0;32m/usr/local/lib/python3.10/dist-packages/numpy/core/overrides.py\u001b[0m in \u001b[0;36mamax\u001b[0;34m(*args, **kwargs)\u001b[0m\n",
            "\u001b[0;32m/usr/local/lib/python3.10/dist-packages/numpy/core/fromnumeric.py\u001b[0m in \u001b[0;36mamax\u001b[0;34m(a, axis, out, keepdims, initial, where)\u001b[0m\n\u001b[1;32m   2791\u001b[0m     \u001b[0;36m5\u001b[0m\u001b[0;34m\u001b[0m\u001b[0;34m\u001b[0m\u001b[0m\n\u001b[1;32m   2792\u001b[0m     \"\"\"\n\u001b[0;32m-> 2793\u001b[0;31m     return _wrapreduction(a, np.maximum, 'max', axis, None, out,\n\u001b[0m\u001b[1;32m   2794\u001b[0m                           keepdims=keepdims, initial=initial, where=where)\n\u001b[1;32m   2795\u001b[0m \u001b[0;34m\u001b[0m\u001b[0m\n",
            "\u001b[0;32m/usr/local/lib/python3.10/dist-packages/numpy/core/fromnumeric.py\u001b[0m in \u001b[0;36m_wrapreduction\u001b[0;34m(obj, ufunc, method, axis, dtype, out, **kwargs)\u001b[0m\n\u001b[1;32m     84\u001b[0m                 \u001b[0;32mreturn\u001b[0m \u001b[0mreduction\u001b[0m\u001b[0;34m(\u001b[0m\u001b[0maxis\u001b[0m\u001b[0;34m=\u001b[0m\u001b[0maxis\u001b[0m\u001b[0;34m,\u001b[0m \u001b[0mout\u001b[0m\u001b[0;34m=\u001b[0m\u001b[0mout\u001b[0m\u001b[0;34m,\u001b[0m \u001b[0;34m**\u001b[0m\u001b[0mpasskwargs\u001b[0m\u001b[0;34m)\u001b[0m\u001b[0;34m\u001b[0m\u001b[0;34m\u001b[0m\u001b[0m\n\u001b[1;32m     85\u001b[0m \u001b[0;34m\u001b[0m\u001b[0m\n\u001b[0;32m---> 86\u001b[0;31m     \u001b[0;32mreturn\u001b[0m \u001b[0mufunc\u001b[0m\u001b[0;34m.\u001b[0m\u001b[0mreduce\u001b[0m\u001b[0;34m(\u001b[0m\u001b[0mobj\u001b[0m\u001b[0;34m,\u001b[0m \u001b[0maxis\u001b[0m\u001b[0;34m,\u001b[0m \u001b[0mdtype\u001b[0m\u001b[0;34m,\u001b[0m \u001b[0mout\u001b[0m\u001b[0;34m,\u001b[0m \u001b[0;34m**\u001b[0m\u001b[0mpasskwargs\u001b[0m\u001b[0;34m)\u001b[0m\u001b[0;34m\u001b[0m\u001b[0;34m\u001b[0m\u001b[0m\n\u001b[0m\u001b[1;32m     87\u001b[0m \u001b[0;34m\u001b[0m\u001b[0m\n\u001b[1;32m     88\u001b[0m \u001b[0;34m\u001b[0m\u001b[0m\n",
            "\u001b[0;31mValueError\u001b[0m: zero-size array to reduction operation maximum which has no identity"
          ]
        }
      ]
    },
    {
      "cell_type": "code",
      "source": [
        "average"
      ],
      "metadata": {
        "id": "2Dav5lUjLZG0",
        "outputId": "c49f6c19-55f6-49c6-895f-3db7ab65ae40",
        "colab": {
          "base_uri": "https://localhost:8080/"
        }
      },
      "execution_count": 36,
      "outputs": [
        {
          "output_type": "execute_result",
          "data": {
            "text/plain": [
              "[71.35832887120509,\n",
              " 71.36019907432035,\n",
              " 71.36243834658912,\n",
              " 71.36526523829367,\n",
              " 71.3684433903826,\n",
              " 71.37193052066299,\n",
              " 71.37563399504266,\n",
              " 71.37953388680394,\n",
              " 71.38359153239179,\n",
              " 71.38779338197936,\n",
              " 71.39203177631295,\n",
              " 71.39637774764194,\n",
              " 71.40077755006918,\n",
              " 71.40521755713162,\n",
              " 71.40965865775333,\n",
              " 71.41404787749873,\n",
              " 71.4184986783765,\n",
              " 71.42292420991386,\n",
              " 71.4273635413427,\n",
              " 71.43177569387628,\n",
              " 71.43612661635949,\n",
              " 71.4404972250241,\n",
              " 71.44480477918356,\n",
              " 71.44908876693447,\n",
              " 71.45336738850988,\n",
              " 71.45757783460685,\n",
              " 71.46176479974636,\n",
              " 71.46589163911284,\n",
              " 71.4700000625767,\n",
              " 71.47403620626135,\n",
              " 71.47803446404858,\n",
              " 71.48200175280694,\n",
              " 71.48592238867187,\n",
              " 71.48979369927083,\n",
              " 71.49363471227781,\n",
              " 71.49740182300896,\n",
              " 71.50115420083824,\n",
              " 71.50486794441564,\n",
              " 71.50853934641664,\n",
              " 71.51215670473387,\n",
              " 71.515752327771]"
            ]
          },
          "metadata": {},
          "execution_count": 36
        }
      ]
    },
    {
      "cell_type": "code",
      "source": [
        "plt.plot(stddev)\n",
        "plt.show()"
      ],
      "metadata": {
        "id": "nYIWmi7aX-FF",
        "outputId": "7473988e-fb76-4c00-d5f1-ab4a1fe0cdd5",
        "colab": {
          "base_uri": "https://localhost:8080/",
          "height": 430
        }
      },
      "execution_count": 34,
      "outputs": [
        {
          "output_type": "display_data",
          "data": {
            "text/plain": [
              "<Figure size 640x480 with 1 Axes>"
            ],
            "image/png": "[encoded data removed]"
          },
          "metadata": {}
        }
      ]
    },
    {
      "cell_type": "code",
      "source": [],
      "metadata": {
        "id": "-SdYoS8FYE72"
      },
      "execution_count": null,
      "outputs": []
    }
  ],
  "metadata": {
    "colab": {
      "name": "Colaboratory에 오신 것을 환영합니다",
      "toc_visible": true,
      "provenance": [],
      "include_colab_link": true
    },
    "kernelspec": {
      "display_name": "Python 3",
      "name": "python3"
    }
  },
  "nbformat": 4,
  "nbformat_minor": 0
}